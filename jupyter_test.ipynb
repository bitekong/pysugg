{
 "cells": [
  {
   "cell_type": "code",
   "execution_count": 1,
   "outputs": [
    {
     "name": "stderr",
     "output_type": "stream",
     "text": [
      "Traceback (most recent call last):\n",
      "  File \"/Users/xiangyang/opt/anaconda3/envs/pysuggest/lib/python3.8/site-packages/IPython/core/interactiveshell.py\", line 3457, in run_code\n",
      "    exec(code_obj, self.user_global_ns, self.user_ns)\n",
      "  File \"/var/folders/gs/806g3rvs61zfzwwt0qwd6gh80000gn/T/ipykernel_75865/4047907449.py\", line 8, in <module>\n",
      "NameError: name 'os' is not defined\n"
     ]
    },
    {
     "name": "stdout",
     "output_type": "stream",
     "text": [
      "NameError: name 'os' is not defined.\n",
      "Module name 'os' is not declared, now searching the available modules.\n",
      "1 import os\n",
      "2 from tty import OSPEED\n",
      "3 from pip._vendor.colorama.ansi import OSC\n",
      "4 from site-packages.pip._vendor.colorama.ansi import OSC\n",
      "5 from IPython.core.magics.osm import OSMagics\n"
     ]
    }
   ],
   "source": [
    "from exception_catcher import ExceptionCatcher\n",
    "from exception_executors.module_suggest_executor import ModuleSuggestExecutor\n",
    "\n",
    "ExceptionCatcher().add_executor(ModuleSuggestExecutor(\"test\", print_trace=True)).start()\n",
    "\n",
    "# For test, you can see we have not imported the 'os' module, but no error raise as usual here.\n",
    "# And, you will find suggested import statements.\n",
    "os"
   ],
   "metadata": {
    "collapsed": false,
    "pycharm": {
     "name": "#%%\n"
    }
   }
  },
  {
   "cell_type": "code",
   "execution_count": null,
   "outputs": [],
   "source": [],
   "metadata": {
    "collapsed": false,
    "pycharm": {
     "name": "#%%\n"
    }
   }
  }
 ],
 "metadata": {
  "kernelspec": {
   "display_name": "Python 3",
   "language": "python",
   "name": "python3"
  },
  "language_info": {
   "codemirror_mode": {
    "name": "ipython",
    "version": 2
   },
   "file_extension": ".py",
   "mimetype": "text/x-python",
   "name": "python",
   "nbconvert_exporter": "python",
   "pygments_lexer": "ipython2",
   "version": "2.7.6"
  }
 },
 "nbformat": 4,
 "nbformat_minor": 0
}